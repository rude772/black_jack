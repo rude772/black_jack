{
 "cells": [
  {
   "cell_type": "markdown",
   "metadata": {},
   "source": [
    "# Bem burro, apaguei o auxilio original com as regras de comportamento. Parabéns para mim. \n",
    "\n",
    "Vamos lá\n"
   ]
  },
  {
   "cell_type": "markdown",
   "metadata": {},
   "source": [
    "# Roteiro do Jogo - BlackJack\n",
    "\n",
    "Objetivo do Jogo: Quebrar a banca.\n",
    "\n",
    "* Nova partida se inicia:\n",
    "\n",
    "* -- Jogadores devem colocar registrar seus nomes. Maximo de dois jogadores.\n",
    "* -- Jogadores devem escolher o nível do Dealer.\n",
    "* --- Fácil (Banca = L$ 5.000) - Normal (Banca = L$ 10.000) - Difícil (Banca = L$ 50.000)\n",
    "\n",
    "* Jogo se divide em turnos. Em cada turno, existe a primeira rodada e a segunda rodada. A primeira rodada é diferente pois permite split e double. Na segunda rodada, cada jogador decide, a cada carta, se deseja parar ou continuar.\n",
    "* -- Split : Quando o jogador tem duas cartas de mesmo valor, maiores que 10 e decide fazer uma nova mão com elas separando as duas cartas e recebendo mais uma nova para cada mão.\n",
    "* -- Double: O jogador pode escolher, com qualquer combinação de carta, se deseja receber apenas mais uma carta e dobrar o valor de aposta.\n",
    "* No início de cada turno o jogador deve escolher se vai apostar e quanto ou se vai sair definitivamente do jogo. Caso os dois jogadores saiam, é game over. \n",
    "\n",
    "* Apostas:\n",
    "* -- Ocorrem apenas na primeira rodada e podem duplicar caso o jogador queira apostar \"double\" ou caso ele divida o jogo dele em dois, também dobra as chances de ganhar. \n",
    "* -- Quando o jogador aposta, se ele ganha, o valor que ele apostou dobra e é subtraído do Dealer. Caso ele perca, o valor que ele apostou é somado ao valor do Dealer. \n",
    "* -- As apostas se dão de forma independentes entre os jogadores. Ou seja: Os jogadores não competem diretamente entre si, apenas contra o Dealer.\n",
    "* -- O Dealer pode perder dinheiro para o jogador um e ganhar dinheiro do jogador dois, por exemplo.\n",
    "\n",
    "* Rodadas:\n",
    "* -- do ponto de vista prático, existe a primeira rodada, onde são distribuidas as primeiras cartas, sendo duas cartas para cada jogador e uma carta para o dealer ( visualmente, é como se o dealer tivesse recebido duas, porém uma fica escondida.\n",
    "* -- depois, na segunda rodada, cada jogador vai pedindo novas cartas ou decide parar. Assim que encerrar, vai para o próximo jogador. O último a jogar é o dealer.\n",
    "* -- O Dealer precisa fazer pelo menos 17 pontos, não podendo parar de jogar antes.\n",
    "\n",
    "*BlackJack:\n",
    "* -- Caso um jogador ou mais faça blackjack 'natural' não existe a segunda rodada para eles. Ao invés de ganhar o dobro, ganha o triplo do que apostou, se o dealer não tiver blackjack, natural ou não. \n",
    "* -- Caso o Dealer faça blackjack \"natural\", imediatamente as duas cartas são mostradas e os jogadores só conseguem empatar ,seja blackjack natural ou não.\n",
    "\n",
    "*Fim de Jogo:\n",
    "* -- Caso o dealer chegue a zero, os jogadores ganham, independente dos seus valores, se um é maior que o outro.\n",
    "* -- Caso os dois jogadores cheguem a zero, ou os dois saiam da partida, ou ainda, um saia da partida e o outro chegue a zero, a partida é considerada \"Game Over\"."
   ]
  },
  {
   "cell_type": "markdown",
   "metadata": {},
   "source": [
    "Objetos:\n",
    "\n",
    "# BLACKJACK: ÀS E OUTRA CARTA QUE VALE 10 PONTOS    \n",
    "\n",
    "Funções:\n",
    "    \n",
    "hit()\n",
    "stop()\n",
    "double()\n",
    "split()\n",
    "\n",
    "rodada1() #primeira rodada se diferencia por permitir split e double e por ser a única que distribui duas cartas. É na primeira rodada que os jogadores apostam.\n",
    "rodada2() #a cada rodada, podemos chamar as funcoes: hit, stop, double. E checar se tem condicoes da funcao split e 21.\n",
    "checa_as() # sempre checar se existe uma carta 'Às' na mao dos jogadores. 'Às' pode ser 1 ou 11, se o 'Às' + outras cardas <= 21\n",
    "checa_estouro() #a cada rodada, eu checo se jogador ou dealer estourou\n",
    "checa_split() #a cada rodada eu checo se tenho opção split (duas cartas com o mesmo valor pode splitar)\n",
    "maior_mao() #antes da rodada do dealer, verifica quais as maiores mãos que irão jogar contra dealer. Pode ser uma ou mais, apenas se empatarem no maior valor.\n",
    "dealer_vencendo() #dealer checa se está vencendo, para decidir se continua apostando ou não. Se dealer está perdendo, tenta ganhar ou empatar sempre. Delaer\n",
    "precisa tentar somar 17 ou mais sempre\n",
    "dealer_acao()\n",
    "vencedor() #Checa se todos os jogadores + dealer já deram stop ou estouro e calcula o vencedor\n",
    "ver_fimdejogo() # Ao final de cada turno, verificar se atingiu as condições de final de jogo\n",
    "fim_jogo()\n",
    "# Mostra campeão: Jogador com maior valor de dinheiro, se dealer igual a zero, ou Game Over.\n",
    "# Game over: Se dealer tem dinheiro e os demais não. Se todos os jogadores saíram do jogo em algum começo de turno.\n",
    "\n",
    "\n",
    "Observações:\n",
    "Considerar ativo na partida todo jogador cujo status = True. Se jogador sair ou zerar, status == False. "
   ]
  },
  {
   "cell_type": "markdown",
   "metadata": {},
   "source": [
    "função clear (para manter tudo limpinho na tela)\n",
    "\n",
    "from IPython.display import clear_output"
   ]
  },
  {
   "cell_type": "code",
   "execution_count": 2,
   "metadata": {},
   "outputs": [],
   "source": [
    "from random import choice\n",
    "\n",
    "jogadores = []\n",
    "\n",
    "#Cria a classe dos jogadores. Por padrão, todo jogador começa uma partida com 1000 dinheiros e ativo no jogo\n",
    "class Jogador(object):\n",
    "    def __init__(self, nome, carteira=1000, status=True):\n",
    "        self.nome = nome\n",
    "        self.carteira = carteira\n",
    "        self.status = status\n",
    "    \n",
    "    def aposta(self):\n",
    "        while True:\n",
    "            try:\n",
    "                valor = int(input('Digite o valor da aposta: '))\n",
    "            except:\n",
    "                print('Digitar apenas valores inteiros.')\n",
    "                continue\n",
    "            if valor > self.carteira:\n",
    "                print('Não há saldo suficiente. Disponível em carteira: ', self.carteira)\n",
    "                continue\n",
    "            else:\n",
    "                self.carteira -= valor\n",
    "                print('Saldo restante: ', self.carteira)\n",
    "                break\n",
    "        return valor\n",
    "    \n",
    "    def add_dindin(self, valor):\n",
    "        self.carteira += valor\n",
    "        return self.carteira\n",
    "    \n",
    "    def tira_dindin(self, valor):\n",
    "        if valor >= self.carteira:\n",
    "            self.status = False\n",
    "            self.carteira = 0\n",
    "        return print('Você perdeu tudo. Se lascou.')"
   ]
  },
  {
   "cell_type": "code",
   "execution_count": 3,
   "metadata": {},
   "outputs": [],
   "source": [
    "#Cria a classe do dealer, com devido level. O level configura o valor da banca, total de dinheiro do dealer.    \n",
    "class Dealer(object):\n",
    "    cartas_valores = {'A':1,'J':10,'Q':10,'K':10,'2':2,'3':3,'4':4,'5':5,'6':6,'7':7,'8':8,'9':9,'10':10}\n",
    "    mao_cartas_dealer = []\n",
    "    soma = 0\n",
    "    def __init__(self, banca=0, level=0, mao_dealer=[]):\n",
    "        self.banca = banca\n",
    "        self.level = level\n",
    "        self.mao_dealer = mao_dealer\n",
    "        \n",
    "    def add_dindin(self,valor):\n",
    "        self.banca += valor\n",
    "        return self.banca\n",
    "    \n",
    "    def tira_dindin(self,valor):\n",
    "        self.banca -= valor\n",
    "        return self.banca\n",
    "    \n",
    "    def mao_dealer(self, carta):\n",
    "        if carta[0].isalpha() or carta[0] != '1':\n",
    "            self.mao_valor = self.cartas_valores[carta[0]]\n",
    "            self.soma += self.mao_valor\n",
    "            self.mao_cartas_dealer.append(carta)\n",
    "        else:\n",
    "            self.mao_valor = 10\n",
    "            self.soma += self.mao_valor\n",
    "            self.mao_cartas_dealer.append(carta)\n",
    "        return self.mao_cartas_dealer, self.soma\n",
    "    \n",
    "    def reset_mao(self):\n",
    "        self.mao_dealer = []\n",
    "        return self.mao_dealer\n",
    "    \n",
    "    def set_level(self):\n",
    "        while True:\n",
    "            try:\n",
    "                self.level = int(input('Insira o level que deseja jogar (1 - fácil, 2 - normal, 3 - hard): '))\n",
    "            except:\n",
    "                print('Digite um número entre 1 e 3')\n",
    "                continue\n",
    "            if self.level == 1:\n",
    "                self.banca = 5000\n",
    "                break\n",
    "            elif self.level == 2:\n",
    "                self.banca = 10000\n",
    "                break\n",
    "            elif self.level == 3:\n",
    "                self.banca = 50000\n",
    "                break\n",
    "            else:\n",
    "                print('Digite um nível válido: ')\n",
    "                continue\n",
    "        return self.level, self.banca"
   ]
  },
  {
   "cell_type": "code",
   "execution_count": 4,
   "metadata": {},
   "outputs": [],
   "source": [
    "# Cria o baralho, com todas as cartas e ações dentro do baralho, para tirar cartas aleatoriamente e resetar o baralho para novo turno.\n",
    "class Baralho(object):\n",
    "    cartas = ['JOuros', '9Ouros', '9Copas', 'KCopas', '5Paus', '6Ouros', '2Ouros', '3Copas', 'QPaus', 'JCopas', '2Espadas', '4Ouros', '9Espadas', '8Paus', '10Copas', '10Paus', '2Paus', '7Espadas', 'KEspadas', '6Paus', '5Espadas', 'AOuros', 'KOuros', '5Copas', '10Ouros', '4Espadas', '10Espadas', '7Ouros', 'QCopas', '2Copas', '8Copas', '7Paus', '9Paus', 'ACopas', '3Espadas', '8Ouros', '5Ouros', 'KPaus', '3Paus', '4Paus', '3Ouros', '4Copas', '7Copas', '6Espadas', 'JEspadas', '6Copas', 'AEspadas', 'QEspadas', '8Espadas', 'QOuros', 'APaus', 'JPaus']\n",
    "    def __init__(self):\n",
    "        pass\n",
    "        \n",
    "    def tira_carta(self):\n",
    "        carta_vez = choice(self.cartas)\n",
    "        self.cartas.remove(carta_vez)\n",
    "        return carta_vez\n",
    "        \n",
    "    def reset(self):\n",
    "        self.cartas = ['JOuros', '9Ouros', '9Copas', 'KCopas', '5Paus', '6Ouros', '2Ouros', '3Copas', 'QPaus', 'JCopas', '2Espadas', '4Ouros', '9Espadas', '8Paus', '10Copas', '10Paus', '2Paus', '7Espadas', 'KEspadas', '6Paus', '5Espadas', 'AOuros', 'KOuros', '5Copas', '10Ouros', '4Espadas', '10Espadas', '7Ouros', 'QCopas', '2Copas', '8Copas', '7Paus', '9Paus', 'ACopas', '3Espadas', '8Ouros', '5Ouros', 'KPaus', '3Paus', '4Paus', '3Ouros', '4Copas', '7Copas', '6Espadas', 'JEspadas', '6Copas', 'AEspadas', 'QEspadas', '8Espadas', 'QOuros', 'APaus', 'JPaus']\n",
    "        return self.cartas\n",
    "    "
   ]
  },
  {
   "cell_type": "code",
   "execution_count": 103,
   "metadata": {},
   "outputs": [],
   "source": [
    "# Cria as regras das mãos que serão jogadas por todos os jogadores a cada turno.\n",
    "class Mao(object):\n",
    "    cartas_valores = {'A':1,'J':10,'Q':10,'K':10,'2':2,'3':3,'4':4,'5':5,'6':6,'7':7,'8':8,'9':9,'10':10}\n",
    "    mao_cartas_jogador = []\n",
    "    soma = 0\n",
    "    def __init__(self, jogador):\n",
    "        self.jogador = jogador\n",
    "        return\n",
    "        \n",
    "    #def add_jogador(self,jogador):\n",
    "        #mao_jogador = self.jogador\n",
    "        #return mao_jogador\n",
    "    \n",
    "    def mao_cartas(self, carta, jogador):\n",
    "        if carta[0].isalpha() or carta[0] != '1':\n",
    "            self.mao_valor = self.cartas_valores[carta[0]]\n",
    "            self.soma += self.mao_valor\n",
    "            self.mao_cartas_jogador.append(carta)\n",
    "        else:\n",
    "            self.mao_valor = 10\n",
    "            self.soma += self.mao_valor\n",
    "            self.mao_cartas_jogador.append(carta)\n",
    "        return self.jogador, self.mao_cartas_jogador, self.soma"
   ]
  },
  {
   "cell_type": "code",
   "execution_count": 104,
   "metadata": {},
   "outputs": [],
   "source": [
    "def registra_jogador():\n",
    "    global jogadores\n",
    "    jogadores = [input('Digite nome do jogador: ')]\n",
    "    novo = input('deseja registrar novo jogador? Sim, Não: ').lower()\n",
    "    if novo[0] == 's':\n",
    "        jogadores.append(input('Digite nome do jogador: '))\n",
    "    return jogadores"
   ]
  },
  {
   "cell_type": "code",
   "execution_count": 129,
   "metadata": {},
   "outputs": [],
   "source": [
    "def criar_jogadores():\n",
    "    global jogadores\n",
    "    n = 0\n",
    "    for x in jogadores:\n",
    "        jogadores[n] = Jogador(x)\n",
    "        n += 1\n",
    "    return"
   ]
  },
  {
   "cell_type": "code",
   "execution_count": 130,
   "metadata": {},
   "outputs": [],
   "source": [
    "def rodada1():\n",
    "    global jogadores\n",
    "    mao_jogadores = ['mao1', 'mao2', 'mao3', 'mao4']\n",
    "    n = 0\n",
    "    for x in jogadores:\n",
    "        jogadores[n].aposta()\n",
    "        mao_jogadores[n] = Mao(jogadores[n].nome) \n",
    "        n += 1          \n",
    "    return mao_jogadores"
   ]
  },
  {
   "cell_type": "code",
   "execution_count": 131,
   "metadata": {},
   "outputs": [],
   "source": [
    "def nova_partida():\n",
    "    registra_jogador()\n",
    "    criar_jogadores()\n",
    "    dealer = Dealer()\n",
    "    dealer.set_level()\n",
    "    baralho = Baralho()\n",
    "    rodada1()\n",
    "    return"
   ]
  },
  {
   "cell_type": "code",
   "execution_count": 132,
   "metadata": {},
   "outputs": [
    {
     "name": "stdout",
     "output_type": "stream",
     "text": [
      "Digite nome do jogador: maria\n",
      "deseja registrar novo jogador? Sim, Não: n\n",
      "Insira o level que deseja jogar (1 - fácil, 2 - normal, 3 - hard): 1\n",
      "Digite o valor da aposta: 100\n",
      "Saldo restante:  900\n"
     ]
    }
   ],
   "source": [
    "jogadores = []\n",
    "baralho = Baralho()\n",
    "\n",
    "nova_partida()"
   ]
  },
  {
   "cell_type": "code",
   "execution_count": 137,
   "metadata": {},
   "outputs": [],
   "source": [
    "class Jogador(object):\n",
    "    cartas_valores = {'A':1,'J':10,'Q':10,'K':10,'2':2,'3':3,'4':4,'5':5,'6':6,'7':7,'8':8,'9':9,'10':10}\n",
    "    mao_cartas_jogador = []\n",
    "    soma = 0\n",
    "    def __init__(self, nome, carteira=1000, status=True):\n",
    "        self.nome = nome\n",
    "        self.carteira = carteira\n",
    "        self.status = status\n",
    "    \n",
    "    def aposta(self):\n",
    "        while True:\n",
    "            try:\n",
    "                valor = int(input(f'{self.nome}, digite o valor da aposta: '))\n",
    "            except:\n",
    "                print('Digitar apenas valores inteiros.')\n",
    "                continue\n",
    "            if valor > self.carteira:\n",
    "                print('Não há saldo suficiente. Disponível em carteira: ', self.carteira)\n",
    "                continue\n",
    "            else:\n",
    "                self.carteira -= valor\n",
    "                print('Saldo restante: ', self.carteira)\n",
    "                break\n",
    "        return valor\n",
    "\n",
    "    def mao_cartas(self, carta, nome):\n",
    "        if carta[0].isalpha() or carta[0] != '1':\n",
    "            self.mao_valor = self.cartas_valores[carta[0]]\n",
    "            self.soma += self.mao_valor\n",
    "            self.mao_cartas_jogador.append(carta)\n",
    "        else:\n",
    "            self.mao_valor = 10\n",
    "            self.soma += self.mao_valor\n",
    "            self.mao_cartas_jogador.append(carta)\n",
    "        return print(self.nome, self.mao_cartas_jogador, self.soma)\n",
    "    \n",
    "    def reset_mao(self):\n",
    "        self.mao_cartas_jogador = []\n",
    "        return self.mao_cartas_jogador\n",
    "    \n",
    "    def add_dindin(self, valor):\n",
    "        self.carteira += valor\n",
    "        return self.carteira\n",
    "    \n",
    "    def tira_dindin(self, valor):\n",
    "        if valor >= self.carteira:\n",
    "            self.status = False\n",
    "            self.carteira = 0\n",
    "        return print('Você perdeu tudo. Se lascou.')"
   ]
  },
  {
   "cell_type": "code",
   "execution_count": 138,
   "metadata": {},
   "outputs": [],
   "source": [
    "jogador1 = Jogador('Tiago')"
   ]
  },
  {
   "cell_type": "code",
   "execution_count": 139,
   "metadata": {},
   "outputs": [
    {
     "data": {
      "text/plain": [
       "0"
      ]
     },
     "execution_count": 139,
     "metadata": {},
     "output_type": "execute_result"
    }
   ],
   "source": [
    "jogador1.soma"
   ]
  },
  {
   "cell_type": "code",
   "execution_count": null,
   "metadata": {},
   "outputs": [],
   "source": []
  }
 ],
 "metadata": {
  "kernelspec": {
   "display_name": "Python 3",
   "language": "python",
   "name": "python3"
  },
  "language_info": {
   "codemirror_mode": {
    "name": "ipython",
    "version": 3
   },
   "file_extension": ".py",
   "mimetype": "text/x-python",
   "name": "python",
   "nbconvert_exporter": "python",
   "pygments_lexer": "ipython3",
   "version": "3.7.3"
  }
 },
 "nbformat": 4,
 "nbformat_minor": 2
}
